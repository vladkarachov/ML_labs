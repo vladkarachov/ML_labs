{
 "cells": [
  {
   "cell_type": "markdown",
   "metadata": {
    "pycharm": {
     "name": "#%% md\n"
    }
   },
   "source": [
    "# Практикум 5. \n",
    "Побудова асоцiативних правил\n",
    "за алгоритмами Apriori та FP-росту"
   ]
  },
  {
   "cell_type": "code",
   "execution_count": 4,
   "metadata": {
    "pycharm": {
     "name": "#%%\n"
    }
   },
   "outputs": [
    {
     "data": {
      "text/html": [
       "<div>\n",
       "<style scoped>\n",
       "    .dataframe tbody tr th:only-of-type {\n",
       "        vertical-align: middle;\n",
       "    }\n",
       "\n",
       "    .dataframe tbody tr th {\n",
       "        vertical-align: top;\n",
       "    }\n",
       "\n",
       "    .dataframe thead th {\n",
       "        text-align: right;\n",
       "    }\n",
       "</style>\n",
       "<table border=\"1\" class=\"dataframe\">\n",
       "  <thead>\n",
       "    <tr style=\"text-align: right;\">\n",
       "      <th></th>\n",
       "      <th>Bread</th>\n",
       "      <th>Butter</th>\n",
       "      <th>Cheese</th>\n",
       "      <th>Coffee Powder</th>\n",
       "      <th>Ghee</th>\n",
       "      <th>Lassi</th>\n",
       "      <th>Milk</th>\n",
       "      <th>Panner</th>\n",
       "      <th>Sugar</th>\n",
       "      <th>Sweet</th>\n",
       "      <th>Tea Powder</th>\n",
       "      <th>Yougurt</th>\n",
       "    </tr>\n",
       "  </thead>\n",
       "  <tbody>\n",
       "    <tr>\n",
       "      <th>0</th>\n",
       "      <td>0</td>\n",
       "      <td>1</td>\n",
       "      <td>1</td>\n",
       "      <td>1</td>\n",
       "      <td>1</td>\n",
       "      <td>1</td>\n",
       "      <td>0</td>\n",
       "      <td>0</td>\n",
       "      <td>0</td>\n",
       "      <td>0</td>\n",
       "      <td>0</td>\n",
       "      <td>1</td>\n",
       "    </tr>\n",
       "    <tr>\n",
       "      <th>1</th>\n",
       "      <td>0</td>\n",
       "      <td>0</td>\n",
       "      <td>0</td>\n",
       "      <td>1</td>\n",
       "      <td>1</td>\n",
       "      <td>0</td>\n",
       "      <td>0</td>\n",
       "      <td>0</td>\n",
       "      <td>0</td>\n",
       "      <td>0</td>\n",
       "      <td>0</td>\n",
       "      <td>0</td>\n",
       "    </tr>\n",
       "    <tr>\n",
       "      <th>2</th>\n",
       "      <td>0</td>\n",
       "      <td>1</td>\n",
       "      <td>1</td>\n",
       "      <td>0</td>\n",
       "      <td>0</td>\n",
       "      <td>1</td>\n",
       "      <td>0</td>\n",
       "      <td>0</td>\n",
       "      <td>0</td>\n",
       "      <td>0</td>\n",
       "      <td>1</td>\n",
       "      <td>0</td>\n",
       "    </tr>\n",
       "    <tr>\n",
       "      <th>3</th>\n",
       "      <td>1</td>\n",
       "      <td>1</td>\n",
       "      <td>1</td>\n",
       "      <td>1</td>\n",
       "      <td>0</td>\n",
       "      <td>0</td>\n",
       "      <td>0</td>\n",
       "      <td>1</td>\n",
       "      <td>0</td>\n",
       "      <td>0</td>\n",
       "      <td>1</td>\n",
       "      <td>0</td>\n",
       "    </tr>\n",
       "    <tr>\n",
       "      <th>4</th>\n",
       "      <td>0</td>\n",
       "      <td>1</td>\n",
       "      <td>1</td>\n",
       "      <td>1</td>\n",
       "      <td>0</td>\n",
       "      <td>0</td>\n",
       "      <td>0</td>\n",
       "      <td>0</td>\n",
       "      <td>1</td>\n",
       "      <td>1</td>\n",
       "      <td>0</td>\n",
       "      <td>1</td>\n",
       "    </tr>\n",
       "  </tbody>\n",
       "</table>\n",
       "</div>"
      ],
      "text/plain": [
       "   Bread  Butter  Cheese  Coffee Powder  Ghee  Lassi  Milk  Panner  Sugar  \\\n",
       "0      0       1       1              1     1      1     0       0      0   \n",
       "1      0       0       0              1     1      0     0       0      0   \n",
       "2      0       1       1              0     0      1     0       0      0   \n",
       "3      1       1       1              1     0      0     0       1      0   \n",
       "4      0       1       1              1     0      0     0       0      1   \n",
       "\n",
       "   Sweet  Tea Powder  Yougurt  \n",
       "0      0           0        1  \n",
       "1      0           0        0  \n",
       "2      0           1        0  \n",
       "3      0           1        0  \n",
       "4      1           0        1  "
      ]
     },
     "execution_count": 4,
     "metadata": {},
     "output_type": "execute_result"
    }
   ],
   "source": [
    "import pandas as pd\n",
    "import numpy as np\n",
    "import warnings\n",
    "import seaborn as sns\n",
    "import datetime\n",
    "import matplotlib.pyplot as plt\n",
    "from mlxtend.frequent_patterns import apriori,association_rules\n",
    "from mlxtend.frequent_patterns import fpgrowth\n",
    "warnings.filterwarnings('ignore')\n",
    "\n",
    "df=pd.read_csv('Var_8_Market_Basket_Analysis_2.csv', header=None, delimiter='\\n')\n",
    "df.head()\n",
    "df = df[0].str.get_dummies(sep=',')\n",
    "df.head()"
   ]
  },
  {
   "cell_type": "markdown",
   "metadata": {
    "pycharm": {
     "name": "#%% md\n"
    }
   },
   "source": [
    "Побудувати частi набори та асоцiативнi правила (АП), використовую-\n",
    "чи алгоритм Apriori. Дослiдити множини АП залежно вiд параметрiв\n",
    "побудови АП:\n",
    "• мiнiмальної пiдтримки,\n",
    "• мiнiмальної достовiрностi,\n",
    "• максимальної потужностi частих наборiв.\n",
    "Пiдiбрати значення параметрiв алгоритму Apriori, якi призводять до\n",
    "значущих АП. АП Rk вважати значущим, якщо покращення (improvement\n",
    "або лiфт (lift)): Improv(Rk) > 1.\n",
    "\n",
    "Apriori это алгоритм поиска ассоциативных правил,\n",
    "которые генерируются на основе всех частых предметных наборов,\n",
    "обнаруженных в транзакционной базе данных, и удовлетворяют заданному уровню поддержки и достоверности.\n",
    "\n",
    "Алгоритм позволяет сократить пространство поиска благодаря свойству антимонотонности множеств,\n",
    "которое утверждает, что если предметный набор\n",
    "Z не является частым, то добавление к нему некоторого нового предмета\n",
    "A не делает его таковым. Иными словами, если\n",
    "Z не является частым, то и\n",
    "Z+A также не будет им.\n"
   ]
  },
  {
   "cell_type": "code",
   "execution_count": 6,
   "metadata": {
    "pycharm": {
     "name": "#%%\n"
    }
   },
   "outputs": [],
   "source": [
    "def create_rules(df, supp=0.1, conf=0, max_len=None, algorithm=apriori):\n",
    "    frequent_itemssets=algorithm(df, min_support=supp, use_colnames=True, max_len=max_len, verbose=0)\n",
    "    rules=association_rules(frequent_itemssets, metric='lift')\n",
    "    rules=rules[(rules['lift'] >= 1) & (rules['confidence'] >= conf)]\n",
    "    return rules"
   ]
  },
  {
   "cell_type": "code",
   "execution_count": 7,
   "metadata": {
    "pycharm": {
     "name": "#%%\n"
    }
   },
   "outputs": [],
   "source": [
    "#попытаемся подобрать максимальное количество полезных правил\n",
    "rules_stats=[]\n",
    "for sup in range(1,10):\n",
    "    for conf in range(1,10):\n",
    "        for max_len in range(2,12):\n",
    "            try:\n",
    "                rules=create_rules(df, sup/20, conf/15, max_len, apriori)\n",
    "                stat={\n",
    "                    \"count\":rules.shape[0],\n",
    "                    \"sup\":sup/20,\n",
    "                    \"conf\":conf/15,\n",
    "                    \"max_len\":max_len,\n",
    "                    \"mean_lift\":rules[\"lift\"].mean(),\n",
    "                    \"max_lift\":rules[\"lift\"].max()\n",
    "                }\n",
    "                rules_stats.append(stat)\n",
    "            except:\n",
    "                #иногда получаются пустые множества, которые кидают ероры при вычислении метрик\n",
    "                pass"
   ]
  },
  {
   "cell_type": "code",
   "execution_count": 8,
   "metadata": {
    "pycharm": {
     "name": "#%%\n"
    }
   },
   "outputs": [
    {
     "name": "stdout",
     "output_type": "stream",
     "text": [
      "max rules :  {'count': 1452, 'sup': 0.05, 'conf': 0.06666666666666667, 'max_len': 3, 'mean_lift': 1.0755676650037984, 'max_lift': 1.1644891366016128}\n",
      "max mean :  {'count': 12, 'sup': 0.1, 'conf': 0.4666666666666667, 'max_len': 3, 'mean_lift': 1.0899102183690281, 'max_lift': 1.1644891366016128}\n"
     ]
    }
   ],
   "source": [
    "from operator import itemgetter\n",
    "max_rules_ap=rules_stats[0]\n",
    "max_mean_ap=rules_stats[0]\n",
    "for stat in rules_stats:\n",
    "    if stat['count']>max_rules_ap['count'] :\n",
    "        max_rules_ap=stat\n",
    "    if stat['mean_lift']>max_mean_ap['mean_lift'] :\n",
    "        max_mean_ap=stat\n",
    "print(\"max rules : \", max_rules_ap)\n",
    "print(\"max mean : \", max_mean_ap)"
   ]
  },
  {
   "cell_type": "markdown",
   "source": [
    "Як бачимо, при такій значній різниці в кількості правил середнє\n",
    "покращення майже не змінилося, але їхня достовірність та підтримка стала набагато вища"
   ],
   "metadata": {
    "collapsed": false
   }
  },
  {
   "cell_type": "markdown",
   "metadata": {
    "pycharm": {
     "name": "#%% md\n"
    }
   },
   "source": [
    "Побудувати частi набори та множину АП, використовуючи алгоритм FP-\n",
    "росту. Дослiдити множини АП залежно вiд параметрiв побудови АП, якi\n",
    "було наведено вище для Apriori.\n",
    "Пiдiбрати значення параметрiв алгоритму FP-росту, якi призводять до\n",
    "значущих АП.\n",
    "\n",
    "В основе метода лежит предобработка базы транзакций, в процессе которой эта база\n",
    "данных преобразуется в компактную древовидную структуру, называемую Frequent-Pattern Tree\n",
    " – дерево популярных предметных наборов."
   ]
  },
  {
   "cell_type": "markdown",
   "metadata": {
    "pycharm": {
     "name": "#%% md\n"
    }
   },
   "source": [
    "Побудувати частi набори та множину АП, використовуючи алгоритм FP-\n",
    "росту. Дослiдити множини АП залежно вiд параметрiв побудови АП, якi\n",
    "було наведено вище для Apriori.\n",
    "Пiдiбрати значення параметрiв алгоритму FP-росту, якi призводять до\n",
    "значущих АП.\n",
    "\n",
    "В основе метода лежит предобработка базы транзакций, в процессе которой эта база\n",
    "данных преобразуется в компактную древовидную структуру, называемую Frequent-Pattern Tree\n",
    " – дерево популярных предметных наборов."
   ]
  },
  {
   "cell_type": "code",
   "execution_count": 9,
   "metadata": {
    "pycharm": {
     "name": "#%%\n"
    }
   },
   "outputs": [],
   "source": [
    "rules_stats=[]\n",
    "for sup in range(1,10):\n",
    "    for conf in range(1,10):\n",
    "        for max_len in range(2,12):\n",
    "            try:\n",
    "                rules=create_rules(df, sup/20, conf/15, max_len, fpgrowth)\n",
    "                stat={\n",
    "                    \"count\":rules.shape[0],\n",
    "                    \"sup\":sup/20,\n",
    "                    \"conf\":conf/15,\n",
    "                    \"max_len\":max_len,\n",
    "                    \"mean_lift\":rules[\"lift\"].mean(),\n",
    "                    \"max_lift\":rules[\"lift\"].max()\n",
    "                }\n",
    "                rules_stats.append(stat)\n",
    "            except:\n",
    "                pass"
   ]
  },
  {
   "cell_type": "code",
   "execution_count": 10,
   "metadata": {
    "pycharm": {
     "name": "#%%\n"
    }
   },
   "outputs": [
    {
     "name": "stdout",
     "output_type": "stream",
     "text": [
      "max rules :  {'count': 1452, 'sup': 0.05, 'conf': 0.06666666666666667, 'max_len': 3, 'mean_lift': 1.0755676650037984, 'max_lift': 1.1644891366016128}\n",
      "max mean :  {'count': 12, 'sup': 0.1, 'conf': 0.4666666666666667, 'max_len': 3, 'mean_lift': 1.0899102183690281, 'max_lift': 1.1644891366016128}\n"
     ]
    }
   ],
   "source": [
    "max_rules_fp=rules_stats[0]\n",
    "max_mean_fp=rules_stats[0]\n",
    "for stat in rules_stats:\n",
    "    if stat['count']>max_rules_fp['count'] :\n",
    "        max_rules_fp=stat\n",
    "    if stat['mean_lift']>max_mean_fp['mean_lift'] :\n",
    "        max_mean_fp=stat\n",
    "print(\"max rules : \", max_rules_fp)\n",
    "print(\"max mean : \", max_mean_fp)"
   ]
  },
  {
   "cell_type": "markdown",
   "metadata": {
    "pycharm": {
     "name": "#%% md\n"
    }
   },
   "source": [
    "Результати такі ж, як і у апріорі алгоритму"
   ]
  },
  {
   "cell_type": "markdown",
   "metadata": {
    "pycharm": {
     "name": "#%% md\n"
    }
   },
   "source": [
    "## Прогнози\n",
    "(на основі меньшої множини)"
   ]
  },
  {
   "cell_type": "code",
   "execution_count": 16,
   "metadata": {
    "pycharm": {
     "name": "#%%\n"
    }
   },
   "outputs": [
    {
     "data": {
      "text/html": [
       "<div>\n",
       "<style scoped>\n",
       "    .dataframe tbody tr th:only-of-type {\n",
       "        vertical-align: middle;\n",
       "    }\n",
       "\n",
       "    .dataframe tbody tr th {\n",
       "        vertical-align: top;\n",
       "    }\n",
       "\n",
       "    .dataframe thead th {\n",
       "        text-align: right;\n",
       "    }\n",
       "</style>\n",
       "<table border=\"1\" class=\"dataframe\">\n",
       "  <thead>\n",
       "    <tr style=\"text-align: right;\">\n",
       "      <th></th>\n",
       "      <th>antecedents</th>\n",
       "      <th>consequents</th>\n",
       "    </tr>\n",
       "  </thead>\n",
       "  <tbody>\n",
       "    <tr>\n",
       "      <th>2</th>\n",
       "      <td>(Ghee)</td>\n",
       "      <td>(Coffee Powder)</td>\n",
       "    </tr>\n",
       "    <tr>\n",
       "      <th>3</th>\n",
       "      <td>(Coffee Powder)</td>\n",
       "      <td>(Ghee)</td>\n",
       "    </tr>\n",
       "    <tr>\n",
       "      <th>20</th>\n",
       "      <td>(Sugar)</td>\n",
       "      <td>(Butter)</td>\n",
       "    </tr>\n",
       "    <tr>\n",
       "      <th>21</th>\n",
       "      <td>(Butter)</td>\n",
       "      <td>(Sugar)</td>\n",
       "    </tr>\n",
       "    <tr>\n",
       "      <th>53</th>\n",
       "      <td>(Lassi)</td>\n",
       "      <td>(Milk)</td>\n",
       "    </tr>\n",
       "    <tr>\n",
       "      <th>58</th>\n",
       "      <td>(Sweet)</td>\n",
       "      <td>(Lassi)</td>\n",
       "    </tr>\n",
       "    <tr>\n",
       "      <th>59</th>\n",
       "      <td>(Lassi)</td>\n",
       "      <td>(Sweet)</td>\n",
       "    </tr>\n",
       "    <tr>\n",
       "      <th>62</th>\n",
       "      <td>(Panner, Sweet)</td>\n",
       "      <td>(Lassi)</td>\n",
       "    </tr>\n",
       "    <tr>\n",
       "      <th>63</th>\n",
       "      <td>(Panner, Lassi)</td>\n",
       "      <td>(Sweet)</td>\n",
       "    </tr>\n",
       "    <tr>\n",
       "      <th>64</th>\n",
       "      <td>(Sweet, Lassi)</td>\n",
       "      <td>(Panner)</td>\n",
       "    </tr>\n",
       "    <tr>\n",
       "      <th>98</th>\n",
       "      <td>(Panner)</td>\n",
       "      <td>(Bread)</td>\n",
       "    </tr>\n",
       "    <tr>\n",
       "      <th>132</th>\n",
       "      <td>(Sugar)</td>\n",
       "      <td>(Milk)</td>\n",
       "    </tr>\n",
       "  </tbody>\n",
       "</table>\n",
       "</div>"
      ],
      "text/plain": [
       "         antecedents      consequents\n",
       "2             (Ghee)  (Coffee Powder)\n",
       "3    (Coffee Powder)           (Ghee)\n",
       "20           (Sugar)         (Butter)\n",
       "21          (Butter)          (Sugar)\n",
       "53           (Lassi)           (Milk)\n",
       "58           (Sweet)          (Lassi)\n",
       "59           (Lassi)          (Sweet)\n",
       "62   (Panner, Sweet)          (Lassi)\n",
       "63   (Panner, Lassi)          (Sweet)\n",
       "64    (Sweet, Lassi)         (Panner)\n",
       "98          (Panner)          (Bread)\n",
       "132          (Sugar)           (Milk)"
      ]
     },
     "execution_count": 16,
     "metadata": {},
     "output_type": "execute_result"
    }
   ],
   "source": [
    "rules = create_rules(df, max_mean_fp['sup'], max_mean_fp['conf'], max_mean_fp['max_len'], fpgrowth)\n",
    "rules[[\"antecedents\",\t\"consequents\"]]"
   ]
  },
  {
   "cell_type": "markdown",
   "metadata": {
    "pycharm": {
     "name": "#%% md\n"
    }
   },
   "source": [
    "Порівняємо швидкість (шоб хоч щось)"
   ]
  },
  {
   "cell_type": "code",
   "execution_count": 14,
   "metadata": {
    "pycharm": {
     "name": "#%%\n"
    }
   },
   "outputs": [
    {
     "name": "stdout",
     "output_type": "stream",
     "text": [
      "apriori\n",
      "141 ms ± 6.27 ms per loop (mean ± std. dev. of 7 runs, 10 loops each)\n",
      "fpgrowth\n",
      "284 ms ± 55.3 ms per loop (mean ± std. dev. of 7 runs, 1 loop each)\n"
     ]
    }
   ],
   "source": [
    "print(\"apriori\")\n",
    "%timeit create_rules(df, max_rules_fp['sup'], max_rules_fp['conf'], max_rules_fp['max_len'], apriori)\n",
    "print(\"fpgrowth\")\n",
    "%timeit create_rules(df, max_rules_fp['sup'], max_rules_fp['conf'], max_rules_fp['max_len'], fpgrowth)"
   ]
  },
  {
   "cell_type": "markdown",
   "metadata": {
    "pycharm": {
     "name": "#%% md\n"
    }
   },
   "source": [
    "На данному датасеті апріорі алгоритм більш бистрий"
   ]
  }
 ],
 "metadata": {
  "kernelspec": {
   "display_name": "Python 3",
   "language": "python",
   "name": "python3"
  },
  "language_info": {
   "codemirror_mode": {
    "name": "ipython",
    "version": 3
   },
   "file_extension": ".py",
   "mimetype": "text/x-python",
   "name": "python",
   "nbconvert_exporter": "python",
   "pygments_lexer": "ipython3",
   "version": "3.6.8"
  }
 },
 "nbformat": 4,
 "nbformat_minor": 1
}